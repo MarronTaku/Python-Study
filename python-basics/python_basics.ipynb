{
 "cells": [
  {
   "cell_type": "markdown",
   "metadata": {},
   "source": [
    "## Python基礎編"
   ]
  },
  {
   "cell_type": "markdown",
   "metadata": {},
   "source": [
    "### 演算"
   ]
  },
  {
   "cell_type": "code",
   "execution_count": 3,
   "metadata": {},
   "outputs": [
    {
     "name": "stdout",
     "output_type": "stream",
     "text": [
      "9\n",
      "3\n"
     ]
    }
   ],
   "source": [
    "# 加算\n",
    "print(6 + 3)\n",
    "\n",
    "# 減算\n",
    "print(6-3)"
   ]
  },
  {
   "cell_type": "markdown",
   "metadata": {},
   "source": [
    "### 条件分岐"
   ]
  },
  {
   "cell_type": "markdown",
   "metadata": {},
   "source": [
    "```python\n",
    "if <条件式0>:\n",
    "    <(条件式0がTrueのときに実行する)処理>\n",
    "elif <条件式1>:\n",
    "    <(条件式0がFalse、条件式1がTrueのときに実行する)処理>\n",
    "else:\n",
    "    <(すべての条件式がFalseのときに実行する)処理>\n",
    "```"
   ]
  },
  {
   "cell_type": "code",
   "execution_count": 4,
   "metadata": {},
   "outputs": [
    {
     "data": {
      "text/plain": [
       "1"
      ]
     },
     "execution_count": 4,
     "metadata": {},
     "output_type": "execute_result"
    }
   ],
   "source": [
    "x = -1\n",
    "\n",
    "if x < 0:\n",
    "    y = - x\n",
    "else:\n",
    "    y = x\n",
    "\n",
    "y"
   ]
  },
  {
   "cell_type": "markdown",
   "metadata": {},
   "source": []
  },
  {
   "cell_type": "markdown",
   "metadata": {},
   "source": [
    "### ループ"
   ]
  },
  {
   "cell_type": "markdown",
   "metadata": {},
   "source": [
    "- `for`文\n",
    "```python\n",
    "for <変数> in <イテレータ>:\n",
    "    <処理>\n",
    "```\n",
    "\n",
    "- `while`文\n",
    "```python\n",
    "while <条件式>:\n",
    "    <(条件式がTrueの間だけ実行する)処理>\n",
    "```"
   ]
  },
  {
   "cell_type": "code",
   "execution_count": 5,
   "metadata": {},
   "outputs": [
    {
     "data": {
      "text/plain": [
       "55"
      ]
     },
     "execution_count": 5,
     "metadata": {},
     "output_type": "execute_result"
    }
   ],
   "source": [
    "# for文、1から10までの和\n",
    "x = 0\n",
    "for n in range(1, 11):\n",
    "    x = x + n\n",
    "\n",
    "x"
   ]
  },
  {
   "cell_type": "code",
   "execution_count": 6,
   "metadata": {},
   "outputs": [
    {
     "data": {
      "text/plain": [
       "30"
      ]
     },
     "execution_count": 6,
     "metadata": {},
     "output_type": "execute_result"
    }
   ],
   "source": [
    "# while文、1から10までの偶数の和を求めるプログラム\n",
    "x = 0\n",
    "n = 1\n",
    "\n",
    "while n <= 10:\n",
    "    if n % 2 == 0:\n",
    "        x = x + n\n",
    "    n = n + 1\n",
    "\n",
    "x"
   ]
  },
  {
   "cell_type": "markdown",
   "metadata": {},
   "source": []
  },
  {
   "cell_type": "markdown",
   "metadata": {},
   "source": [
    "### 関数"
   ]
  },
  {
   "cell_type": "markdown",
   "metadata": {},
   "source": [
    "関数のフォーマットは以下の通りになる。Pythonでは関数で型を明記するとよりわかりやしプログラムになる。\n",
    "\n",
    "- 関数定義\n",
    "\n",
    "```python\n",
    "def <関数名>(<引数>: <型名>, ...) >- <戻り値の型名>:\n",
    "    <関数内部の処理>\n",
    "```\n",
    "\n",
    "- 関数呼び出し\n",
    "\n",
    "```python\n",
    "<関数名>(<引数>, ...)\n",
    "```"
   ]
  },
  {
   "cell_type": "code",
   "execution_count": 7,
   "metadata": {},
   "outputs": [
    {
     "data": {
      "text/plain": [
       "1"
      ]
     },
     "execution_count": 7,
     "metadata": {},
     "output_type": "execute_result"
    }
   ],
   "source": [
    "# 絶対値を求めるプログラム\n",
    "x = -1\n",
    "if x < 0:\n",
    "    y = - x\n",
    "else:\n",
    "    y = x\n",
    "    \n",
    "y"
   ]
  },
  {
   "cell_type": "markdown",
   "metadata": {},
   "source": [
    "上記を関数で実装"
   ]
  },
  {
   "cell_type": "code",
   "execution_count": 11,
   "metadata": {},
   "outputs": [
    {
     "data": {
      "text/plain": [
       "1"
      ]
     },
     "execution_count": 11,
     "metadata": {},
     "output_type": "execute_result"
    }
   ],
   "source": [
    "# 絶対値を求める関数\n",
    "def obsolute(x: int) -> int:\n",
    "    if x < 0:\n",
    "        y = - x\n",
    "    else:\n",
    "        y = x\n",
    "    \n",
    "    return y\n",
    "\n",
    "# 絶対値を求める関数の呼び出し \n",
    "obsolute(-1)"
   ]
  },
  {
   "cell_type": "markdown",
   "metadata": {},
   "source": [
    "関数のプログラミング用語\n",
    "- 仮引数：関数定義のときに与えられた引数\n",
    "- 実引数：関数呼び出しのときに与えた引数"
   ]
  },
  {
   "cell_type": "code",
   "execution_count": 12,
   "metadata": {},
   "outputs": [],
   "source": [
    "# べき乗数を求める関数\n",
    "def power(x: int, y: int) -> int:\n",
    "    return x ** y"
   ]
  },
  {
   "cell_type": "code",
   "execution_count": 13,
   "metadata": {},
   "outputs": [
    {
     "data": {
      "text/plain": [
       "8"
      ]
     },
     "execution_count": 13,
     "metadata": {},
     "output_type": "execute_result"
    }
   ],
   "source": [
    "# 呼び出し\n",
    "power(2, 3)"
   ]
  },
  {
   "cell_type": "markdown",
   "metadata": {},
   "source": [
    "仮引数と実引数の対応を明示的に指定する場合には、`<仮引数>=<実引数>`という形式で指定します。この形式で渡す引数を**キーワード引数**と言います。"
   ]
  },
  {
   "cell_type": "code",
   "execution_count": 14,
   "metadata": {},
   "outputs": [
    {
     "data": {
      "text/plain": [
       "8"
      ]
     },
     "execution_count": 14,
     "metadata": {},
     "output_type": "execute_result"
    }
   ],
   "source": [
    "# キーワード引数で呼び出し\n",
    "power(x=2, y=3)"
   ]
  },
  {
   "cell_type": "markdown",
   "metadata": {},
   "source": [
    "さらに、引数(の一部)に既定値を与えておき、その引数を省略可能とすることもできます。これを**デフォルト引数**と言います。関数呼び出しの際にその引数が省略された場合、既定値が使用されます。"
   ]
  },
  {
   "cell_type": "code",
   "execution_count": 15,
   "metadata": {},
   "outputs": [
    {
     "data": {
      "text/plain": [
       "1"
      ]
     },
     "execution_count": 15,
     "metadata": {},
     "output_type": "execute_result"
    }
   ],
   "source": [
    "# べき乗数を求める関数\n",
    "def power(x: int = 1, y: int = 1) -> int:\n",
    "    return x ** y\n",
    "\n",
    "power(x=1)"
   ]
  },
  {
   "cell_type": "markdown",
   "metadata": {},
   "source": []
  },
  {
   "cell_type": "markdown",
   "metadata": {},
   "source": [
    "### データ型"
   ]
  },
  {
   "cell_type": "markdown",
   "metadata": {},
   "source": [
    "プログラミング言語におけるデータの種類のことを**データ型**と言います。Pythonでよく使われるデータ型は以下の通りです。\n",
    "\n",
    "- int型(整数)\n",
    "- float型(小数)\n",
    "- bool型(真偽値)\n",
    "- str型(文字列)\n",
    "- list型(リスト)\n",
    "- tuple型(タプル)\n",
    "- dict型(辞書)\n",
    "\n",
    "上記のlist型、tuple型、dict型について紹介する"
   ]
  },
  {
   "cell_type": "markdown",
   "metadata": {},
   "source": [
    "#### list型(リスト)"
   ]
  },
  {
   "cell_type": "code",
   "execution_count": 1,
   "metadata": {},
   "outputs": [
    {
     "data": {
      "text/plain": [
       "[1, 2, 3]"
      ]
     },
     "execution_count": 1,
     "metadata": {},
     "output_type": "execute_result"
    }
   ],
   "source": [
    "# リスト\n",
    "[1, 2, 3]"
   ]
  },
  {
   "cell_type": "code",
   "execution_count": 2,
   "metadata": {},
   "outputs": [
    {
     "data": {
      "text/plain": [
       "1"
      ]
     },
     "execution_count": 2,
     "metadata": {},
     "output_type": "execute_result"
    }
   ],
   "source": [
    "# リストの要素を参照\n",
    "x = [1, 2, 3]\n",
    "x[0]"
   ]
  },
  {
   "cell_type": "code",
   "execution_count": 3,
   "metadata": {},
   "outputs": [
    {
     "data": {
      "text/plain": [
       "[10, 2, 3]"
      ]
     },
     "execution_count": 3,
     "metadata": {},
     "output_type": "execute_result"
    }
   ],
   "source": [
    "# 要素の代入\n",
    "x = [1, 2, 3]\n",
    "x[0] = 10\n",
    "x"
   ]
  },
  {
   "cell_type": "markdown",
   "metadata": {},
   "source": [
    "一度に複数要素アクセスすることもできます。Pythonではこれを**スライス**と呼ばれ、以下の形式で記述する。\n",
    "```python\n",
    "<リスト名>[開始位置:終了位置:増分]\n",
    "```\n",
    "デフォルトの開始位置は先頭、終了位置は末尾(の後ろ)、増分は1となっており、省略するとデフォルト値が使われる。スライスでアクセスしたとき、**終了位置は含まれない**ことに注意する。"
   ]
  },
  {
   "cell_type": "code",
   "execution_count": 4,
   "metadata": {},
   "outputs": [
    {
     "data": {
      "text/plain": [
       "[3, 4]"
      ]
     },
     "execution_count": 4,
     "metadata": {},
     "output_type": "execute_result"
    }
   ],
   "source": [
    "# スライス(参照)\n",
    "x = [1, 2, 3, 4, 5]\n",
    "x[2:4:1]"
   ]
  },
  {
   "cell_type": "code",
   "execution_count": 7,
   "metadata": {},
   "outputs": [
    {
     "data": {
      "text/plain": [
       "[1, 2, 10, 20, 30, 5]"
      ]
     },
     "execution_count": 7,
     "metadata": {},
     "output_type": "execute_result"
    }
   ],
   "source": [
    "# スライス(代入)→よくわからないのであとで調べる\n",
    "x = [1, 2, 3, 4, 5]\n",
    "x[2:4:1] = [10, 20, 30]\n",
    "x"
   ]
  },
  {
   "cell_type": "code",
   "execution_count": 8,
   "metadata": {},
   "outputs": [
    {
     "data": {
      "text/plain": [
       "3"
      ]
     },
     "execution_count": 8,
     "metadata": {},
     "output_type": "execute_result"
    }
   ],
   "source": [
    "# リストの長さ\n",
    "len([1, 2, 3])"
   ]
  },
  {
   "cell_type": "markdown",
   "metadata": {},
   "source": [
    "リストを操作するにあたって`for`文などのループを利用することが多い。例えばリストのすべての要素を2乗するプログラムは下のように書くことができる。"
   ]
  },
  {
   "cell_type": "code",
   "execution_count": 9,
   "metadata": {},
   "outputs": [
    {
     "data": {
      "text/plain": [
       "[1, 4, 9, 16, 25]"
      ]
     },
     "execution_count": 9,
     "metadata": {},
     "output_type": "execute_result"
    }
   ],
   "source": [
    "# すべての要素を2乗するプログラム\n",
    "x = [1, 2, 3, 4, 5]\n",
    "for i in range(len(x)):\n",
    "    x[i] = x[i] ** 2\n",
    "x"
   ]
  },
  {
   "cell_type": "markdown",
   "metadata": {},
   "source": []
  },
  {
   "cell_type": "code",
   "execution_count": null,
   "metadata": {},
   "outputs": [],
   "source": []
  },
  {
   "cell_type": "markdown",
   "metadata": {},
   "source": [
    "#### tuple型(tuple型)"
   ]
  },
  {
   "cell_type": "markdown",
   "metadata": {},
   "source": [
    "タプルもリスト同様複数の要素を集めたもので、他のプログラミング言語では**組**と呼ばれている。Pythonでは下記のように記述する。\n",
    "\n",
    "```python\n",
    "(<要素>, ...)\n",
    "```\n",
    "\n",
    "特徴\n",
    "\n",
    "- タプルに要素を代入や追加、削除はできない\n",
    "- リストは変更可能(**mutable**)であるのに対し、タプルは変更不可(**immutable**)なことに注意"
   ]
  },
  {
   "cell_type": "code",
   "execution_count": 10,
   "metadata": {},
   "outputs": [
    {
     "data": {
      "text/plain": [
       "(1, 2, 3)"
      ]
     },
     "execution_count": 10,
     "metadata": {},
     "output_type": "execute_result"
    }
   ],
   "source": [
    "# タプル\n",
    "(1, 2, 3)"
   ]
  },
  {
   "cell_type": "code",
   "execution_count": 11,
   "metadata": {},
   "outputs": [
    {
     "data": {
      "text/plain": [
       "1"
      ]
     },
     "execution_count": 11,
     "metadata": {},
     "output_type": "execute_result"
    }
   ],
   "source": [
    "# 要素の参照\n",
    "x = (1, 2.0, \"3\")\n",
    "x[0]"
   ]
  },
  {
   "cell_type": "code",
   "execution_count": 12,
   "metadata": {},
   "outputs": [
    {
     "data": {
      "text/plain": [
       "(1, 2.0)"
      ]
     },
     "execution_count": 12,
     "metadata": {},
     "output_type": "execute_result"
    }
   ],
   "source": [
    "# スライス(参照)\n",
    "x = (1, 2.0, \"3\")\n",
    "x[0:2]"
   ]
  },
  {
   "cell_type": "markdown",
   "metadata": {},
   "source": [
    "タプルを生成するのに丸括弧を省略することができる。よって下の2つの例は同じコードとみなすことができる。"
   ]
  },
  {
   "cell_type": "code",
   "execution_count": 13,
   "metadata": {},
   "outputs": [
    {
     "data": {
      "text/plain": [
       "1"
      ]
     },
     "execution_count": 13,
     "metadata": {},
     "output_type": "execute_result"
    }
   ],
   "source": [
    "# 例1\n",
    "(x, y, z) = (1, 2.0, \"3\")\n",
    "x"
   ]
  },
  {
   "cell_type": "code",
   "execution_count": 14,
   "metadata": {},
   "outputs": [
    {
     "data": {
      "text/plain": [
       "1"
      ]
     },
     "execution_count": 14,
     "metadata": {},
     "output_type": "execute_result"
    }
   ],
   "source": [
    "# 例2\n",
    "x, y, z = 1, 2.0, \"3\"\n",
    "x"
   ]
  },
  {
   "cell_type": "markdown",
   "metadata": {},
   "source": [
    "#### dict型(辞書)"
   ]
  },
  {
   "cell_type": "markdown",
   "metadata": {},
   "source": [
    "辞書はリストの各要素に**キー**と呼ばれるラベルをつけたもので、他のプログラミング言語では**連想配列**と呼ばれている。Pythonは下記のように記述する。\n",
    "\n",
    "```python\n",
    "{ <キー>: <値>, ...}\n",
    "```"
   ]
  },
  {
   "cell_type": "code",
   "execution_count": 15,
   "metadata": {},
   "outputs": [
    {
     "data": {
      "text/plain": [
       "{'a': 1, 'b': 2, 'c': 3}"
      ]
     },
     "execution_count": 15,
     "metadata": {},
     "output_type": "execute_result"
    }
   ],
   "source": [
    "# 辞書\n",
    "{\"a\": 1, \"b\": 2, \"c\": 3}"
   ]
  },
  {
   "cell_type": "code",
   "execution_count": 16,
   "metadata": {},
   "outputs": [
    {
     "data": {
      "text/plain": [
       "1"
      ]
     },
     "execution_count": 16,
     "metadata": {},
     "output_type": "execute_result"
    }
   ],
   "source": [
    "# 要素の参照\n",
    "x = {\"a\": 1, \"b\": 2, \"c\": 3}\n",
    "x[\"a\"]"
   ]
  },
  {
   "cell_type": "code",
   "execution_count": 17,
   "metadata": {},
   "outputs": [
    {
     "data": {
      "text/plain": [
       "{'a': 1, 'b': 2, 'c': 3, 'd': 4}"
      ]
     },
     "execution_count": 17,
     "metadata": {},
     "output_type": "execute_result"
    }
   ],
   "source": [
    "# 要素の代入\n",
    "x = {\"a\": 1, \"b\": 2, \"c\": 3}\n",
    "x[\"d\"] = 4\n",
    "x"
   ]
  },
  {
   "cell_type": "code",
   "execution_count": 21,
   "metadata": {},
   "outputs": [
    {
     "data": {
      "text/plain": [
       "dict_keys(['a', 'b', 'c'])"
      ]
     },
     "execution_count": 21,
     "metadata": {},
     "output_type": "execute_result"
    }
   ],
   "source": [
    "# キーの取得\n",
    "x = {\"a\": 1, \"b\": 2, \"c\": 3}\n",
    "x.keys()"
   ]
  },
  {
   "cell_type": "code",
   "execution_count": 22,
   "metadata": {},
   "outputs": [
    {
     "data": {
      "text/plain": [
       "dict_values([1, 2, 3])"
      ]
     },
     "execution_count": 22,
     "metadata": {},
     "output_type": "execute_result"
    }
   ],
   "source": [
    "# 要素の取得\n",
    "x = {\"a\": 1, \"b\": 2, \"c\": 3}\n",
    "x.values()"
   ]
  },
  {
   "cell_type": "markdown",
   "metadata": {},
   "source": []
  }
 ],
 "metadata": {
  "kernelspec": {
   "display_name": "Python 3",
   "language": "python",
   "name": "python3"
  },
  "language_info": {
   "codemirror_mode": {
    "name": "ipython",
    "version": 3
   },
   "file_extension": ".py",
   "mimetype": "text/x-python",
   "name": "python",
   "nbconvert_exporter": "python",
   "pygments_lexer": "ipython3",
   "version": "3.10.5"
  }
 },
 "nbformat": 4,
 "nbformat_minor": 2
}
